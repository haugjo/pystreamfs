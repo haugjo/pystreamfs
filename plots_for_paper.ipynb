{
 "cells": [
  {
   "cell_type": "code",
   "execution_count": 1,
   "metadata": {},
   "outputs": [],
   "source": [
    "import json"
   ]
  },
  {
   "cell_type": "code",
   "execution_count": 19,
   "metadata": {},
   "outputs": [],
   "source": [
    "ofs = './experiment_results/ofs_results.json'\n",
    "fsds = './experiment_results/fsds_results.json'\n",
    "mcnn = './experiment_results/mcnn_results.json'\n",
    "cncl = './experiment_results/canc_results.json'"
   ]
  },
  {
   "cell_type": "code",
   "execution_count": null,
   "metadata": {},
   "outputs": [],
   "source": []
  },
  {
   "cell_type": "code",
   "execution_count": 26,
   "metadata": {},
   "outputs": [],
   "source": [
    "# To load data from json\n",
    "with open(ofs, 'r') as fp:\n",
    "    data_ofs = json.load(fp)\n",
    "# To load data from json\n",
    "with open(fsds, 'r') as fp:\n",
    "    data_fsds = json.load(fp)\n",
    "# To load data from json\n",
    "with open(mcnn, 'r') as fp:\n",
    "    data_mcnn = json.load(fp)\n",
    "# To load data from json\n",
    "with open(cncl, 'r') as fp:\n",
    "    data_cncl = json.load(fp)"
   ]
  },
  {
   "cell_type": "code",
   "execution_count": 27,
   "metadata": {},
   "outputs": [
    {
     "data": {
      "text/plain": [
       "('credit;5F;50B', '')"
      ]
     },
     "execution_count": 27,
     "metadata": {},
     "output_type": "execute_result"
    }
   ],
   "source": [
    "'credit;5F;50B', ''"
   ]
  },
  {
   "cell_type": "code",
   "execution_count": 28,
   "metadata": {},
   "outputs": [
    {
     "name": "stdout",
     "output_type": "stream",
     "text": [
      "credit;5F;50B\n",
      "[1.0, 1.0, 1.0, 1.0, 1.0, 1.0, 1.0, 1.0, 1.0, 0.98, 1.0, 1.0, 1.0, 1.0, 0.98, 1.0, 1.0, 1.0, 1.0, 1.0]\n",
      "credit;5F;100B\n",
      "[0.98, 0.99, 1.0, 1.0, 1.0, 0.99, 1.0, 1.0, 1.0, 1.0]\n",
      "credit;5F;200B\n",
      "[1.0, 1.0, 1.0, 0.99, 1.0]\n",
      "credit;10F;50B\n",
      "[0.92, 0.96, 0.96, 1.0, 1.0, 0.98, 1.0, 1.0, 0.98, 0.98, 1.0, 0.98, 0.98, 1.0, 0.96, 1.0, 1.0, 1.0, 1.0, 0.9333333333333333]\n",
      "credit;10F;100B\n",
      "[0.94, 0.96, 0.99, 1.0, 0.97, 0.99, 0.98, 0.98, 1.0, 0.9692307692307692]\n",
      "credit;10F;200B\n",
      "[0.96, 0.99, 0.995, 0.98, 1.0]\n",
      "credit;20F;50B\n",
      "[0.92, 0.96, 0.9, 1.0, 0.9, 0.94, 0.94, 0.94, 0.98, 0.92, 0.96, 0.96, 0.94, 0.94, 0.92, 0.98, 1.0, 1.0, 0.94, 0.9333333333333333]\n",
      "credit;20F;100B\n",
      "[0.94, 0.95, 0.92, 0.94, 0.95, 0.96, 0.93, 0.95, 1.0, 0.9538461538461539]\n",
      "credit;20F;200B\n",
      "[0.945, 0.92, 0.94, 0.945, 0.9696969696969697]\n"
     ]
    }
   ],
   "source": [
    "for i_experiment in data:\n",
    "    print(i_experiment)\n",
    "    print(data[i_experiment]['acc_measures'])"
   ]
  },
  {
   "cell_type": "code",
   "execution_count": 34,
   "metadata": {},
   "outputs": [
    {
     "data": {
      "text/plain": [
       "[0.92,\n",
       " 0.96,\n",
       " 0.9,\n",
       " 1.0,\n",
       " 0.9,\n",
       " 0.94,\n",
       " 0.9,\n",
       " 0.94,\n",
       " 0.96,\n",
       " 0.9,\n",
       " 0.9,\n",
       " 0.96,\n",
       " 0.9,\n",
       " 0.92,\n",
       " 0.92,\n",
       " 0.94,\n",
       " 0.96,\n",
       " 0.98,\n",
       " 0.92,\n",
       " 0.9333333333333333]"
      ]
     },
     "execution_count": 34,
     "metadata": {},
     "output_type": "execute_result"
    }
   ],
   "source": [
    "data_ofs['Credit;5F;50B']['acc_measures']"
   ]
  },
  {
   "cell_type": "code",
   "execution_count": 36,
   "metadata": {},
   "outputs": [
    {
     "data": {
      "text/plain": [
       "[0.92,\n",
       " 0.96,\n",
       " 0.9,\n",
       " 1.0,\n",
       " 0.9,\n",
       " 0.94,\n",
       " 0.9,\n",
       " 0.94,\n",
       " 0.96,\n",
       " 0.9,\n",
       " 0.92,\n",
       " 0.96,\n",
       " 0.9,\n",
       " 0.9,\n",
       " 0.92,\n",
       " 0.96,\n",
       " 0.96,\n",
       " 1.0,\n",
       " 0.92,\n",
       " 0.9333333333333333]"
      ]
     },
     "execution_count": 36,
     "metadata": {},
     "output_type": "execute_result"
    }
   ],
   "source": [
    "data_fsds['credit;5F;50B']['acc_measures']"
   ]
  },
  {
   "cell_type": "code",
   "execution_count": 37,
   "metadata": {},
   "outputs": [
    {
     "data": {
      "text/plain": [
       "[0.92,\n",
       " 0.96,\n",
       " 0.9,\n",
       " 1.0,\n",
       " 0.9,\n",
       " 0.94,\n",
       " 0.82,\n",
       " 0.94,\n",
       " 0.94,\n",
       " 0.86,\n",
       " 0.88,\n",
       " 0.96,\n",
       " 0.88,\n",
       " 0.9,\n",
       " 0.9,\n",
       " 0.9,\n",
       " 0.96,\n",
       " 1.0,\n",
       " 0.9,\n",
       " 0.9333333333333333]"
      ]
     },
     "execution_count": 37,
     "metadata": {},
     "output_type": "execute_result"
    }
   ],
   "source": [
    "data_mcnn['credit;5F;50B']['acc_measures']"
   ]
  },
  {
   "cell_type": "code",
   "execution_count": 31,
   "metadata": {},
   "outputs": [
    {
     "data": {
      "text/plain": [
       "[1.0,\n",
       " 1.0,\n",
       " 1.0,\n",
       " 1.0,\n",
       " 1.0,\n",
       " 1.0,\n",
       " 1.0,\n",
       " 1.0,\n",
       " 1.0,\n",
       " 0.98,\n",
       " 1.0,\n",
       " 1.0,\n",
       " 1.0,\n",
       " 1.0,\n",
       " 0.98,\n",
       " 1.0,\n",
       " 1.0,\n",
       " 1.0,\n",
       " 1.0,\n",
       " 1.0]"
      ]
     },
     "execution_count": 31,
     "metadata": {},
     "output_type": "execute_result"
    }
   ],
   "source": [
    "data_cncl['credit;5F;50B']['acc_measures']"
   ]
  },
  {
   "cell_type": "code",
   "execution_count": null,
   "metadata": {},
   "outputs": [],
   "source": []
  },
  {
   "cell_type": "code",
   "execution_count": null,
   "metadata": {},
   "outputs": [],
   "source": []
  }
 ],
 "metadata": {
  "kernelspec": {
   "display_name": "Python 3",
   "language": "python",
   "name": "python3"
  },
  "language_info": {
   "codemirror_mode": {
    "name": "ipython",
    "version": 3
   },
   "file_extension": ".py",
   "mimetype": "text/x-python",
   "name": "python",
   "nbconvert_exporter": "python",
   "pygments_lexer": "ipython3",
   "version": "3.6.7"
  }
 },
 "nbformat": 4,
 "nbformat_minor": 2
}
